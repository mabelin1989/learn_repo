{
  "nbformat": 4,
  "nbformat_minor": 0,
  "metadata": {
    "colab": {
      "provenance": []
    },
    "kernelspec": {
      "name": "python3",
      "display_name": "Python 3"
    },
    "language_info": {
      "name": "python"
    }
  },
  "cells": [
    {
      "cell_type": "code",
      "source": [
        "print('hi')"
      ],
      "metadata": {
        "colab": {
          "base_uri": "https://localhost:8080/"
        },
        "id": "E1Lwq9BJBkPo",
        "outputId": "5216e279-cd57-4ebc-edb9-2da3455f7906"
      },
      "execution_count": null,
      "outputs": [
        {
          "output_type": "stream",
          "name": "stdout",
          "text": [
            "hi\n"
          ]
        }
      ]
    },
    {
      "cell_type": "code",
      "execution_count": null,
      "metadata": {
        "colab": {
          "base_uri": "https://localhost:8080/"
        },
        "id": "KyXPi3Bm3LzM",
        "outputId": "2fa0eade-bdee-47b6-bc9c-c7ffa65790fe"
      },
      "outputs": [
        {
          "output_type": "stream",
          "name": "stdout",
          "text": [
            "Afghanistan\n",
            "Albania\n",
            "Algeria\n",
            "American Samoa\n",
            "AndorrA\n",
            "Angola\n",
            "Anguilla\n",
            "Antarctica\n",
            "Antigua and Barbuda\n",
            "Argentina\n",
            "Armenia\n",
            "Aruba\n",
            "Australia\n",
            "Austria\n",
            "Azerbaijan\n"
          ]
        }
      ],
      "source": [
        "import json\n",
        "with open(\"countries.json\", \"r\") as read_file:\n",
        "    data = json.load(read_file)\n",
        "    for i in range(len(data)):\n",
        "      if (data[i]['name'])[0]=='A':\n",
        "        print(data[i]['name'])"
      ]
    }
  ]
}